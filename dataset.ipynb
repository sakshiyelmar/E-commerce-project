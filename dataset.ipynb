{
 "cells": [
  {
   "cell_type": "code",
   "execution_count": null,
   "id": "a5f296ad",
   "metadata": {},
   "outputs": [],
   "source": [
    "import requests\n",
    "import pandas as pd\n",
    "import numpy as np\n",
    "import time\n",
    "from bs4 import BeautifulSoup\n",
    "from sklearn.feature_extraction.text import TfidfVectorizer\n",
    "import re"
   ]
  },
  {
   "cell_type": "code",
   "execution_count": 17,
   "id": "89b998ea",
   "metadata": {},
   "outputs": [],
   "source": [
    "headers = {\n",
    "    \"User-Agent\": \"Mozilla/5.0 (Windows NT 10.0; Win64; x64) AppleWebKit/537.36 (KHTML, like Gecko) Chrome/135.0.0.0 Safari/537.36\",\n",
    "    \"Accept-Language\": \"en-US,en;q=0.9\",\n",
    "    \"Accept-Encoding\": \"gzip, deflate, br\",\n",
    "    \"Connection\": \"keep-alive\",\n",
    "}\n"
   ]
  },
  {
   "cell_type": "code",
   "execution_count": 18,
   "id": "af12f98d",
   "metadata": {},
   "outputs": [],
   "source": [
    "links_list=[]"
   ]
  },
  {
   "cell_type": "code",
   "execution_count": 27,
   "id": "52bc9b41",
   "metadata": {},
   "outputs": [],
   "source": [
    "for i in range(1,21):\n",
    "    url = f\"https://www.amazon.in/s?k=laptops&page={i}&crid=3NH9YKCK6YS2&qid=1746475075&sprefix=laptop%2Caps%2C284&xpid=hHKSIbrfB5q68&ref=sr_pg_1\"\n",
    "    \n",
    "    r=requests.get(url,headers=headers)\n",
    "    soup=BeautifulSoup(r.text,\"html.parser\")\n",
    "    \n",
    "    links = soup.find_all('a', class_=\"a-link-normal\")\n",
    "    \n",
    "    for i in links:\n",
    "        href = i.get('href')\n",
    "        links_list.append(\"https://www.amazon.in\" + href)\n",
    "\n",
    "    time.sleep(1)"
   ]
  },
  {
   "cell_type": "code",
   "execution_count": 28,
   "id": "ab7044bf",
   "metadata": {},
   "outputs": [
    {
     "data": {
      "text/plain": [
       "8537"
      ]
     },
     "execution_count": 28,
     "metadata": {},
     "output_type": "execute_result"
    }
   ],
   "source": [
    "len(links_list)"
   ]
  },
  {
   "cell_type": "code",
   "execution_count": 29,
   "id": "f5251207",
   "metadata": {},
   "outputs": [],
   "source": [
    "#Product name\n",
    "def Product_name(soup):\n",
    "    tag = soup.find('span', id='productTitle')\n",
    "    return tag.text.strip() if tag else \"\""
   ]
  },
  {
   "cell_type": "code",
   "execution_count": 30,
   "id": "30505264",
   "metadata": {},
   "outputs": [],
   "source": [
    "#Price\n",
    "def Price(soup):\n",
    "    tag=soup.find('span',class_='a-offscreen')\n",
    "    return tag.text.strip() if tag else \"\""
   ]
  },
  {
   "cell_type": "code",
   "execution_count": 31,
   "id": "3bf56d26",
   "metadata": {},
   "outputs": [],
   "source": [
    "#Review\n",
    "def Rating(soup):\n",
    "    tag=soup.find('span',class_='a-icon-alt')\n",
    "    return tag.text if tag else \"\""
   ]
  },
  {
   "cell_type": "code",
   "execution_count": 32,
   "id": "2dc3d6ce",
   "metadata": {},
   "outputs": [],
   "source": [
    "#desc\n",
    "def Description(soup):\n",
    "    tag=soup.find('div',id='feature-bullets')\n",
    "    return tag.text.strip() if tag else \"\""
   ]
  },
  {
   "cell_type": "code",
   "execution_count": 33,
   "id": "93db06c9",
   "metadata": {},
   "outputs": [],
   "source": [
    "d={'Product_name':[],'Price':[],'Rating':[],'Description':[]}"
   ]
  },
  {
   "cell_type": "code",
   "execution_count": null,
   "id": "f2f7db31",
   "metadata": {},
   "outputs": [],
   "source": [
    "for i in links_list:\n",
    "    new_page=requests.get(i,headers=headers)\n",
    "    new_soup=BeautifulSoup(new_page.content,\"html.parser\")\n",
    "    \n",
    "    d['Product_name'].append(Product_name(new_soup))\n",
    "    d['Price'].append(Price(new_soup))\n",
    "    d['Rating'].append(Rating(new_soup))\n",
    "    d['Description'].append(Description(new_soup))\n",
    "\n",
    "    time.sleep(1)"
   ]
  },
  {
   "cell_type": "code",
   "execution_count": 12,
   "id": "cb591c03",
   "metadata": {},
   "outputs": [],
   "source": [
    "amazon_df = pd.DataFrame.from_dict(d)\n",
    "amazon_df['Product_name'] = amazon_df['Product_name'].replace('', np.nan)\n",
    "amazon_df = amazon_df.dropna(subset=['Product_name'])\n",
    "amazon_df.to_csv(\"amazon_data.csv\", header=True, index=False)"
   ]
  },
  {
   "cell_type": "code",
   "execution_count": 25,
   "id": "18775b9d",
   "metadata": {},
   "outputs": [
    {
     "data": {
      "text/html": [
       "<div>\n",
       "<style scoped>\n",
       "    .dataframe tbody tr th:only-of-type {\n",
       "        vertical-align: middle;\n",
       "    }\n",
       "\n",
       "    .dataframe tbody tr th {\n",
       "        vertical-align: top;\n",
       "    }\n",
       "\n",
       "    .dataframe thead th {\n",
       "        text-align: right;\n",
       "    }\n",
       "</style>\n",
       "<table border=\"1\" class=\"dataframe\">\n",
       "  <thead>\n",
       "    <tr style=\"text-align: right;\">\n",
       "      <th></th>\n",
       "      <th>Product_name</th>\n",
       "      <th>Price</th>\n",
       "      <th>Rating</th>\n",
       "      <th>Description</th>\n",
       "    </tr>\n",
       "  </thead>\n",
       "  <tbody>\n",
       "    <tr>\n",
       "      <th>0</th>\n",
       "      <td>Apple 2025 MacBook Air (13-inch, Apple M4 chip...</td>\n",
       "      <td>89900.0</td>\n",
       "      <td>4.5</td>\n",
       "      <td>About this item    SPEED OF LIGHTNESS — MacBoo...</td>\n",
       "    </tr>\n",
       "    <tr>\n",
       "      <th>1</th>\n",
       "      <td>Apple 2024 MacBook Pro Laptop with M4 Pro chip...</td>\n",
       "      <td>186990.0</td>\n",
       "      <td>5.0</td>\n",
       "      <td>About this item    SUPERCHARGED BY M4 PRO OR M...</td>\n",
       "    </tr>\n",
       "    <tr>\n",
       "      <th>2</th>\n",
       "      <td>Lenovo IdeaPad Slim 3, Intel Core i5-12450H, 1...</td>\n",
       "      <td>48833.0</td>\n",
       "      <td>3.9</td>\n",
       "      <td>About this item    Processor: Intel Core i5-12...</td>\n",
       "    </tr>\n",
       "    <tr>\n",
       "      <th>3</th>\n",
       "      <td>HP Victus, AMD Ryzen 5 5600H, NVIDIA RTX 3050,...</td>\n",
       "      <td>56490.0</td>\n",
       "      <td>4.1</td>\n",
       "      <td>About this item    【6-core AMD Ryzen 5 5600H】E...</td>\n",
       "    </tr>\n",
       "    <tr>\n",
       "      <th>4</th>\n",
       "      <td>Lenovo V15 AMD Ryzen 3 7320U 15.6\" (39.62cm) F...</td>\n",
       "      <td>26990.0</td>\n",
       "      <td>3.7</td>\n",
       "      <td>About this item    Processor: AMD Ryzen 3 7320...</td>\n",
       "    </tr>\n",
       "  </tbody>\n",
       "</table>\n",
       "</div>"
      ],
      "text/plain": [
       "                                        Product_name     Price  Rating  \\\n",
       "0  Apple 2025 MacBook Air (13-inch, Apple M4 chip...   89900.0     4.5   \n",
       "1  Apple 2024 MacBook Pro Laptop with M4 Pro chip...  186990.0     5.0   \n",
       "2  Lenovo IdeaPad Slim 3, Intel Core i5-12450H, 1...   48833.0     3.9   \n",
       "3  HP Victus, AMD Ryzen 5 5600H, NVIDIA RTX 3050,...   56490.0     4.1   \n",
       "4  Lenovo V15 AMD Ryzen 3 7320U 15.6\" (39.62cm) F...   26990.0     3.7   \n",
       "\n",
       "                                         Description  \n",
       "0  About this item    SPEED OF LIGHTNESS — MacBoo...  \n",
       "1  About this item    SUPERCHARGED BY M4 PRO OR M...  \n",
       "2  About this item    Processor: Intel Core i5-12...  \n",
       "3  About this item    【6-core AMD Ryzen 5 5600H】E...  \n",
       "4  About this item    Processor: AMD Ryzen 3 7320...  "
      ]
     },
     "execution_count": 25,
     "metadata": {},
     "output_type": "execute_result"
    }
   ],
   "source": [
    "df=pd.read_csv(f'amazon_data.csv')\n",
    "df.head()"
   ]
  },
  {
   "cell_type": "code",
   "execution_count": 26,
   "id": "34e6e466",
   "metadata": {},
   "outputs": [
    {
     "data": {
      "text/plain": [
       "Product_name    263\n",
       "Price           263\n",
       "Rating          263\n",
       "Description     261\n",
       "dtype: int64"
      ]
     },
     "execution_count": 26,
     "metadata": {},
     "output_type": "execute_result"
    }
   ],
   "source": [
    "df.shape\n",
    "df.count()"
   ]
  },
  {
   "cell_type": "code",
   "execution_count": 27,
   "id": "c0cb2452",
   "metadata": {},
   "outputs": [
    {
     "data": {
      "text/plain": [
       "Product_name    0\n",
       "Price           0\n",
       "Rating          0\n",
       "Description     2\n",
       "dtype: int64"
      ]
     },
     "execution_count": 27,
     "metadata": {},
     "output_type": "execute_result"
    }
   ],
   "source": [
    "df.isnull().sum()"
   ]
  },
  {
   "cell_type": "code",
   "execution_count": 44,
   "id": "bf702d2a",
   "metadata": {},
   "outputs": [
    {
     "data": {
      "text/plain": [
       "Product_name    0\n",
       "Price           0\n",
       "Rating          0\n",
       "Description     0\n",
       "dtype: int64"
      ]
     },
     "execution_count": 44,
     "metadata": {},
     "output_type": "execute_result"
    }
   ],
   "source": [
    "df.fillna({'Description':0},inplace=True)\n",
    "df.isnull().sum()"
   ]
  },
  {
   "cell_type": "code",
   "execution_count": 45,
   "id": "841c3f41",
   "metadata": {},
   "outputs": [],
   "source": [
    "df['Price'] = df['Price'].astype(str).str.replace('₹', '').str.replace(',', '').str.strip()"
   ]
  },
  {
   "cell_type": "code",
   "execution_count": 46,
   "id": "4ece11b3",
   "metadata": {},
   "outputs": [],
   "source": [
    "df['Rating'] = df['Rating'].astype(str).str.extract(r'(\\d+\\.?\\d*)')\n",
    "df['Rating'] = df['Rating'].astype(float)"
   ]
  },
  {
   "cell_type": "code",
   "execution_count": null,
   "id": "a6febcd5",
   "metadata": {},
   "outputs": [],
   "source": [
    "def extract_core_name(name):\n",
    "    name = str(name)\n",
    "    name = re.sub(r'[\\(\\)\\[\\]]', '', name)\n",
    "    \n",
    "    pattern = r'^(.*?\\b(?:MacBook|IdeaPad|ThinkPad|Legion|Surface|Vivobook|Zenbook|XPS|Latitude|Inspiron|Pavilion|Omen|Victus|Gram|Swift|Aspire|Yoga|Predator|ROG|TUF|Galaxy Book|MateBook)[^\\d\\n,]*)' \n",
    "    match = re.search(pattern, name, re.IGNORECASE)\n",
    "    \n",
    "    if match:\n",
    "        core = match.group(1)\n",
    "        core = re.sub(r'(?<=\\b)(\\d{4})\\b', r'\\1', core)  \n",
    "        core = re.sub(r'\\s+', ' ', core).strip()\n",
    "        return core\n",
    "    \n",
    "   \n",
    "    return name.split(',')[0].split('(')[0].strip()\n",
    "    \n",
    "    "
   ]
  },
  {
   "cell_type": "code",
   "execution_count": 81,
   "id": "dc6c154a",
   "metadata": {},
   "outputs": [],
   "source": [
    "df['Product_name'] = df['Product_name'].apply(extract_core_name)"
   ]
  },
  {
   "cell_type": "code",
   "execution_count": 82,
   "id": "16c1d3bf",
   "metadata": {},
   "outputs": [
    {
     "data": {
      "text/plain": [
       "0          Apple MacBook Air\n",
       "1        Apple MacBook Pro M\n",
       "2      Lenovo IdeaPad Slim i\n",
       "3            HP Victus Ryzen\n",
       "4         Lenovo V15 Ryzen 3\n",
       "               ...          \n",
       "258        Apple MacBook Air\n",
       "259      Apple MacBook Pro M\n",
       "260          Dell Inspiron i\n",
       "261               HP 13th i3\n",
       "262             Dell Thin i3\n",
       "Name: Product_name, Length: 263, dtype: object"
      ]
     },
     "execution_count": 82,
     "metadata": {},
     "output_type": "execute_result"
    }
   ],
   "source": [
    "df['Product_name']"
   ]
  },
  {
   "cell_type": "code",
   "execution_count": null,
   "id": "547103ac",
   "metadata": {},
   "outputs": [],
   "source": [
    "def extract_features(description):\n",
    "    if not isinstance(description, str):\n",
    "        return \"No description available\"\n",
    "    \n",
    "   \n",
    "    features = {\n",
    "        \"Processor\": \"Unknown\",\n",
    "        \"RAM\": \"Unknown\",\n",
    "        \"Memory\": \"Unknown\",\n",
    "        \"Operating System\": \"Unknown\",\n",
    "        \"Storage\": \"Unknown\",\n",
    "        \"Battery Life\": \"Unknown\"\n",
    "    }\n",
    "    \n",
    "    \n",
    "    processor_pattern = r'(?:(?:[0-9]{1,2}(?:th|rd) Gen )?(?:Intel Core i[3-9](?:-[0-9A-Z]+)?|AMD Ryzen [3-9](?: [0-9A-Z]+)?|Apple M[3-4](?: Pro| Max)?|Celeron N4500|Athlon Silver|MediaTek MT8788|Snapdragon X))'\n",
    "    ram_pattern = r'(\\d{1,2}GB (?:DDR[4-5]|LPDDR[4-5]x?)(?:-\\d{4})?)'\n",
    "    memory_pattern = r'(\\d{1,2}GB (?:Unified Memory|Memory)(?!\\s*(?:DDR|LPDDR)))'\n",
    "    os_pattern = r'(Windows 1[0-1]|macOS|Linux|Chrome OS)'\n",
    "    storage_pattern = r'(\\d{2,4}GB SSD|\\d{2,4}GB M\\.2|\\d{2,4}GB NVMe|\\d{1,2}TB SSD|\\d{2,4}GB PCIe)'\n",
    "    battery_pattern = r'(up to \\d{1,2} hours)'\n",
    "    \n",
    "    # Processor extraction\n",
    "    processor_match = re.search(processor_pattern, description, re.IGNORECASE)\n",
    "    if processor_match:\n",
    "        features[\"Processor\"] = processor_match.group(0).strip()\n",
    "    \n",
    "    # RAM extraction\n",
    "    ram_match = re.search(ram_pattern, description, re.IGNORECASE)\n",
    "    if ram_match:\n",
    "        features[\"RAM\"] = ram_match.group(0).strip()\n",
    "    \n",
    "    # Memory extraction\n",
    "    memory_match = re.search(memory_pattern, description, re.IGNORECASE)\n",
    "    if memory_match:\n",
    "        features[\"Memory\"] = memory_match.group(0).strip()\n",
    "    \n",
    "    # Operating System extraction\n",
    "    os_match = re.search(os_pattern, description, re.IGNORECASE)\n",
    "    if os_match:\n",
    "        features[\"Operating System\"] = os_match.group(0).title().strip()\n",
    "    \n",
    "    # Storage extraction\n",
    "    storage_match = re.search(storage_pattern, description, re.IGNORECASE)\n",
    "    if storage_match:\n",
    "        features[\"Storage\"] = storage_match.group(0).strip()\n",
    "    \n",
    "    # Battery Life extraction\n",
    "    battery_match = re.search(battery_pattern, description, re.IGNORECASE)\n",
    "    if battery_match:\n",
    "        features[\"Battery Life\"] = battery_match.group(0).strip()\n",
    "    \n",
    "    # Format the output\n",
    "    formatted = (f\"Processor: {features['Processor']} | RAM: {features['RAM']} | \"\n",
    "                 f\"Memory: {features['Memory']} | Operating System: {features['Operating System']} | \"\n",
    "                 f\"Storage: {features['Storage']} | Battery Life: {features['Battery Life']}\")\n",
    "    return formatted\n"
   ]
  },
  {
   "cell_type": "code",
   "execution_count": 84,
   "id": "9debc90f",
   "metadata": {},
   "outputs": [],
   "source": [
    "df['Description'] = df['Description'].apply(extract_features)"
   ]
  },
  {
   "cell_type": "code",
   "execution_count": 91,
   "id": "1f8b5ae5",
   "metadata": {},
   "outputs": [],
   "source": [
    "df.to_csv(\"amazon_data.csv\", index=False)\n"
   ]
  },
  {
   "cell_type": "code",
   "execution_count": null,
   "id": "210cbb03",
   "metadata": {},
   "outputs": [],
   "source": []
  },
  {
   "cell_type": "code",
   "execution_count": null,
   "id": "38e955a1",
   "metadata": {},
   "outputs": [],
   "source": []
  },
  {
   "cell_type": "code",
   "execution_count": null,
   "id": "2c0da87d",
   "metadata": {},
   "outputs": [],
   "source": []
  },
  {
   "cell_type": "code",
   "execution_count": null,
   "id": "995c9319",
   "metadata": {},
   "outputs": [],
   "source": []
  }
 ],
 "metadata": {
  "kernelspec": {
   "display_name": "myenv",
   "language": "python",
   "name": "python3"
  },
  "language_info": {
   "codemirror_mode": {
    "name": "ipython",
    "version": 3
   },
   "file_extension": ".py",
   "mimetype": "text/x-python",
   "name": "python",
   "nbconvert_exporter": "python",
   "pygments_lexer": "ipython3",
   "version": "3.10.0"
  }
 },
 "nbformat": 4,
 "nbformat_minor": 5
}
